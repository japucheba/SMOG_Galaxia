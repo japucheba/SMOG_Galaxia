{
 "cells": [
  {
   "cell_type": "code",
   "execution_count": 8,
   "id": "7c0344b4-b3f8-49f2-afc2-2af9e72757a6",
   "metadata": {
    "editable": true,
    "slideshow": {
     "slide_type": ""
    },
    "tags": []
   },
   "outputs": [
    {
     "name": "stdout",
     "output_type": "stream",
     "text": [
      "Directory created successfully!\n",
      "Archivo de regiones 'C:\\Users\\sheli\\A. Extragalactica\\Corte Galaxias\\DS9 regions galaxias\\10050_0270\\DS9_10050_0270.reg' creado exitosamente.\n"
     ]
    }
   ],
   "source": [
    "#Create region file from list of galaxy coordinates (color Yellow)\n",
    "\n",
    "import os\n",
    "\n",
    "Region = \"10050_0270\"\n",
    "\n",
    "# Ruta al archivo de entrada y al archivo de salida\n",
    "path = \"C:\\\\Users\\\\sheli\\\\A. Extragalactica\\\\Corte Galaxias\\\\region_files\\\\\" + Region + \"\\\\\"\n",
    "region_file_galactic = os.path.join(path, \"galacticas_\" + Region + \".reg\")  \n",
    "\n",
    "path_to_save = \"C:\\\\Users\\\\sheli\\\\A. Extragalactica\\\\Corte Galaxias\\\\DS9 regions galaxias\\\\\" + Region + \"\\\\\"\n",
    "output_file = path_to_save + 'DS9_' + Region + '.reg'\n",
    "\n",
    "if not os.path.exists(path_to_save):\n",
    "    # Create the directory\n",
    "    os.makedirs(path_to_save)\n",
    "    print(\"Directory created successfully!\")\n",
    "else:\n",
    "    print(\"Directory already exists!\")\n",
    "\n",
    "\n",
    "# Leer el archivo de regiones galácticas\n",
    "with open(region_file_galactic, 'r') as f_galactic:\n",
    "    lines_galactic = f_galactic.readlines()\n",
    "\n",
    "# Abrir el nuevo archivo de regiones para escribir\n",
    "with open(output_file, 'w') as reg_file:\n",
    "    # Escribir el encabezado\n",
    "    reg_file.write('# Region file format: DS9 version 4.1\\n')\n",
    "    reg_file.write('global color=Yellow dashlist=8 3 width=1 font=\"helvetica 10 normal roman\" select=1 highlite=1 dash=0 fixed=0 edit=1 move=1 delete=1 include=1 source=1\\n')\n",
    "    reg_file.write('galactic\\n')\n",
    "\n",
    "    # Radio fijo para los círculos\n",
    "    radius = 12.00\n",
    "    \n",
    "    # Procesar cada línea\n",
    "    for line in lines_galactic:\n",
    "        parts = line.strip().split()\n",
    "        if len(parts) >= 2:\n",
    "            try:\n",
    "                x_center = float(parts[0])\n",
    "                y_center = float(parts[1])\n",
    "                reg_file.write(f'circle({x_center},{y_center},{radius}\") # color=Yellow width=2\\n')\n",
    "            except ValueError:\n",
    "                print(f\"Línea inválida, omitiendo: {line.strip()}\")\n",
    "        else:\n",
    "            print(f\"Línea con partes insuficientes, omitiendo: {line.strip()}\")\n",
    "\n",
    "print(f\"Archivo de regiones '{output_file}' creado exitosamente.\")\n"
   ]
  },
  {
   "cell_type": "code",
   "execution_count": 47,
   "id": "ffe482b8-2488-4dcd-8082-d80da1937db0",
   "metadata": {
    "editable": true,
    "slideshow": {
     "slide_type": ""
    },
    "tags": []
   },
   "outputs": [
    {
     "name": "stdout",
     "output_type": "stream",
     "text": [
      "Archivo de regiones 'Prueba.reg' creado exitosamente.\n"
     ]
    }
   ],
   "source": [
    "#Create region file with a given text (color green)\n",
    "\n",
    "#Coordenadas que se desean ver\n",
    "x_center = 621925.45\n",
    "y_center = 22632.297\n",
    "radius = 5\n",
    "\n",
    "#Nombre del archivo\n",
    "output_file = 'Prueba.reg'\n",
    "\n",
    "# Abrir el nuevo archivo de regiones para escribir\n",
    "with open(output_file, 'w') as reg_file:\n",
    "    # Escribir el encabezado\n",
    "    reg_file.write('# Region file format: DS9 version 4.1\\n')\n",
    "    reg_file.write('global color=green dashlist=8 3 width=1 font=\"helvetica 10 normal roman\" select=1 highlite=1 dash=0 fixed=0 edit=1 move=1 delete=1 include=1 source=1\\n')\n",
    "    reg_file.write('image\\n')\n",
    "    reg_file.write(f'circle({x_center},{y_center},{radius}) # color=green width=2\\n')\n",
    "\n",
    "print(f\"Archivo de regiones '{output_file}' creado exitosamente.\")\n"
   ]
  },
  {
   "cell_type": "code",
   "execution_count": 11,
   "id": "bac612a5-3a9c-4fd1-b28a-0cb65d342da8",
   "metadata": {},
   "outputs": [
    {
     "ename": "FileNotFoundError",
     "evalue": "[Errno 2] No such file or directory: 'C:\\\\Users\\\\sheli\\\\A. Extragalactica\\\\Objetos casi galacticos\\\\DS9 regiones no galaxias\\\\10150_0\\\\DS9_10150_0145_NoGalaxias.reg'",
     "output_type": "error",
     "traceback": [
      "\u001b[1;31m---------------------------------------------------------------------------\u001b[0m",
      "\u001b[1;31mFileNotFoundError\u001b[0m                         Traceback (most recent call last)",
      "Cell \u001b[1;32mIn[11], line 14\u001b[0m\n\u001b[0;32m     11\u001b[0m output_file \u001b[38;5;241m=\u001b[39m path_to_save \u001b[38;5;241m+\u001b[39m \u001b[38;5;124m'\u001b[39m\u001b[38;5;124mDS9_\u001b[39m\u001b[38;5;124m'\u001b[39m \u001b[38;5;241m+\u001b[39m Region \u001b[38;5;241m+\u001b[39m \u001b[38;5;124m'\u001b[39m\u001b[38;5;124m.reg\u001b[39m\u001b[38;5;124m'\u001b[39m\n\u001b[0;32m     13\u001b[0m \u001b[38;5;66;03m# Read the galactic regions file\u001b[39;00m\n\u001b[1;32m---> 14\u001b[0m \u001b[38;5;28;01mwith\u001b[39;00m \u001b[38;5;28;43mopen\u001b[39;49m\u001b[43m(\u001b[49m\u001b[43minput_path\u001b[49m\u001b[43m,\u001b[49m\u001b[43m \u001b[49m\u001b[38;5;124;43m'\u001b[39;49m\u001b[38;5;124;43mr\u001b[39;49m\u001b[38;5;124;43m'\u001b[39;49m\u001b[43m)\u001b[49m \u001b[38;5;28;01mas\u001b[39;00m f_galactic:\n\u001b[0;32m     15\u001b[0m     lines_galactic \u001b[38;5;241m=\u001b[39m f_galactic\u001b[38;5;241m.\u001b[39mreadlines()\n\u001b[0;32m     17\u001b[0m \u001b[38;5;66;03m# Write to the new DS9 regions file\u001b[39;00m\n",
      "File \u001b[1;32mC:\\python\\Lib\\site-packages\\IPython\\core\\interactiveshell.py:324\u001b[0m, in \u001b[0;36m_modified_open\u001b[1;34m(file, *args, **kwargs)\u001b[0m\n\u001b[0;32m    317\u001b[0m \u001b[38;5;28;01mif\u001b[39;00m file \u001b[38;5;129;01min\u001b[39;00m {\u001b[38;5;241m0\u001b[39m, \u001b[38;5;241m1\u001b[39m, \u001b[38;5;241m2\u001b[39m}:\n\u001b[0;32m    318\u001b[0m     \u001b[38;5;28;01mraise\u001b[39;00m \u001b[38;5;167;01mValueError\u001b[39;00m(\n\u001b[0;32m    319\u001b[0m         \u001b[38;5;124mf\u001b[39m\u001b[38;5;124m\"\u001b[39m\u001b[38;5;124mIPython won\u001b[39m\u001b[38;5;124m'\u001b[39m\u001b[38;5;124mt let you open fd=\u001b[39m\u001b[38;5;132;01m{\u001b[39;00mfile\u001b[38;5;132;01m}\u001b[39;00m\u001b[38;5;124m by default \u001b[39m\u001b[38;5;124m\"\u001b[39m\n\u001b[0;32m    320\u001b[0m         \u001b[38;5;124m\"\u001b[39m\u001b[38;5;124mas it is likely to crash IPython. If you know what you are doing, \u001b[39m\u001b[38;5;124m\"\u001b[39m\n\u001b[0;32m    321\u001b[0m         \u001b[38;5;124m\"\u001b[39m\u001b[38;5;124myou can use builtins\u001b[39m\u001b[38;5;124m'\u001b[39m\u001b[38;5;124m open.\u001b[39m\u001b[38;5;124m\"\u001b[39m\n\u001b[0;32m    322\u001b[0m     )\n\u001b[1;32m--> 324\u001b[0m \u001b[38;5;28;01mreturn\u001b[39;00m \u001b[43mio_open\u001b[49m\u001b[43m(\u001b[49m\u001b[43mfile\u001b[49m\u001b[43m,\u001b[49m\u001b[43m \u001b[49m\u001b[38;5;241;43m*\u001b[39;49m\u001b[43margs\u001b[49m\u001b[43m,\u001b[49m\u001b[43m \u001b[49m\u001b[38;5;241;43m*\u001b[39;49m\u001b[38;5;241;43m*\u001b[39;49m\u001b[43mkwargs\u001b[49m\u001b[43m)\u001b[49m\n",
      "\u001b[1;31mFileNotFoundError\u001b[0m: [Errno 2] No such file or directory: 'C:\\\\Users\\\\sheli\\\\A. Extragalactica\\\\Objetos casi galacticos\\\\DS9 regiones no galaxias\\\\10150_0\\\\DS9_10150_0145_NoGalaxias.reg'"
     ]
    }
   ],
   "source": [
    "import os\n",
    "\n",
    "Region = \"10150_0\"\n",
    "\n",
    "file = \"DS9_10150_0145_NoGalaxias.reg\"\n",
    "\n",
    "# Paths to the input and output files\n",
    "input_path = os.path.join(\"C:\\\\Users\\\\sheli\\\\A. Extragalactica\\\\Objetos casi galacticos\\\\DS9 regiones no galaxias\\\\\" + Region + \"\\\\\" + file)\n",
    "output_path = os.path.join(\"C:\\\\Users\\\\sheli\\\\A. Extragalactica\\\\Objetos casi galacticos\\\\Coordenadas\\\\\" + Region + \"\\\\\")\n",
    "path_to_save = \"C:\\\\Users\\\\sheli\\\\A. Extragalactica\\\\Objetos casi galacticos\\\\Coordenadas\\\\\" + Region + \"\\\\\"\n",
    "output_file = path_to_save + 'DS9_' + Region + '.reg'\n",
    "\n",
    "# Read the galactic regions file\n",
    "with open(input_path, 'r') as f_galactic:\n",
    "    lines_galactic = f_galactic.readlines()\n",
    "\n",
    "# Write to the new DS9 regions file\n",
    "with open(output_file, 'w') as reg_file:\n",
    "    # Write the header\n",
    "    reg_file.write('# Region file format: DS9 version 4.1\\n')\n",
    "    reg_file.write('global color=Yellow dashlist=8 3 width=1 font=\"helvetica 10 normal roman\" select=1 highlite=1 dash=0 fixed=0 edit=1 move=1 delete=1 include=1 source=1\\n')\n",
    "    reg_file.write('galactic\\n')\n",
    "\n",
    "    #Fixed radius for the circles\n",
    "    radius = 12.00\n",
    "\n",
    "    # Write each region with a label\n",
    "    for i, line in enumerate(lines_galactic):\n",
    "        coordinates = line.strip()  # Assuming each line has coordinates\n",
    "        reg_file.write(f'{coordinates} text={{Galaxy_{i+1}}}\\n')\n",
    "\n",
    "print(f\"Region file created successfully: {output_file}\")\n"
   ]
  },
  {
   "cell_type": "code",
   "execution_count": null,
   "id": "f12a3e44-a975-4898-9a88-ca31c6f3bf36",
   "metadata": {},
   "outputs": [],
   "source": []
  }
 ],
 "metadata": {
  "kernelspec": {
   "display_name": "Python 3 (ipykernel)",
   "language": "python",
   "name": "python3"
  },
  "language_info": {
   "codemirror_mode": {
    "name": "ipython",
    "version": 3
   },
   "file_extension": ".py",
   "mimetype": "text/x-python",
   "name": "python",
   "nbconvert_exporter": "python",
   "pygments_lexer": "ipython3",
   "version": "3.12.2"
  }
 },
 "nbformat": 4,
 "nbformat_minor": 5
}
