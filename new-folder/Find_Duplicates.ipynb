{
 "cells": [
  {
   "cell_type": "code",
   "execution_count": 14,
   "id": "066ceee9-075c-4712-9c19-27fb42dea7d0",
   "metadata": {},
   "outputs": [
    {
     "name": "stdout",
     "output_type": "stream",
     "text": [
      "No duplicates found.\n"
     ]
    }
   ],
   "source": [
    "#Encuentra coordenadas duplicadas en el region file de coordenadas galacticas\n",
    "\n",
    "from collections import defaultdict\n",
    "\n",
    "Region = \"10550_0270\"\n",
    "\n",
    "path =\"C:\\\\Users\\\\sheli\\\\A. Extragalactica\\\\Corte Galaxias\\\\region_files\\\\\" + Region + \"\\\\\"\n",
    "\n",
    "region_file_galactic = path + \"galacticas_\" + Region + \".reg\"\n",
    "\n",
    "# Given coordinates\n",
    "coordinates = []\n",
    "with open(region_file_galactic, 'r') as f_galactic:\n",
    "    coordinates = f_galactic.readlines()\n",
    "\n",
    "# Dictionary to store coordinates and their counts\n",
    "coordinate_counts = defaultdict(int)\n",
    "\n",
    "# Find duplicates\n",
    "for coord in coordinates:\n",
    "    coordinate_counts[coord] += 1\n",
    "\n",
    "# List duplicates\n",
    "duplicates = [(coord, count) for coord, count in coordinate_counts.items() if count > 1]\n",
    "\n",
    "# Output duplicates\n",
    "if duplicates:\n",
    "    print(\"Duplicates found:\")\n",
    "    for dup in duplicates:\n",
    "        print(f\"Coordinate: {dup[0]}, Count: {dup[1]}\")\n",
    "\n",
    "else:\n",
    "    print(\"No duplicates found.\")\n"
   ]
  },
  {
   "cell_type": "code",
   "execution_count": 7,
   "id": "c8567a63-6243-47aa-ac86-82bd37c0c17b",
   "metadata": {},
   "outputs": [
    {
     "name": "stdout",
     "output_type": "stream",
     "text": [
      "No duplicates found.\n"
     ]
    }
   ],
   "source": [
    "#Encuentra coordenadas duplicadas en el region file de coordenadas fisicas\n",
    "from collections import defaultdict\n",
    "\n",
    "path =\"C:\\\\Users\\\\sheli\\\\A. Extragalactica\\\\Corte Galaxias\\\\region_files\\\\10450_0270\\\\\"\n",
    "\n",
    "region_file_fisicas = path + 'fisicas_10450_0270.reg'  \n",
    "\n",
    "# Given coordinates\n",
    "coordinates = []\n",
    "with open(region_file_fisicas, 'r') as f_galactic:\n",
    "    coordinates = f_galactic.readlines()\n",
    "\n",
    "# Dictionary to store coordinates and their counts\n",
    "coordinate_counts = defaultdict(int)\n",
    "\n",
    "# Find duplicates\n",
    "for coord in coordinates:\n",
    "    coordinate_counts[coord] += 1\n",
    "\n",
    "# List duplicates\n",
    "duplicates = [(coord, count) for coord, count in coordinate_counts.items() if count > 1]\n",
    "\n",
    "# Output duplicates\n",
    "if duplicates:\n",
    "    print(\"Duplicates found:\")\n",
    "    for dup in duplicates:\n",
    "        print(f\"Coordinate: {dup[0]}, Count: {dup[1]}\")\n",
    "else:\n",
    "    print(\"No duplicates found.\")\n"
   ]
  },
  {
   "cell_type": "code",
   "execution_count": null,
   "id": "8b50b6bd-5b52-48a9-83eb-6c4f6b96acc9",
   "metadata": {},
   "outputs": [],
   "source": []
  },
  {
   "cell_type": "code",
   "execution_count": null,
   "id": "131c3f83-3588-4928-a868-5fa617c3d965",
   "metadata": {},
   "outputs": [],
   "source": []
  }
 ],
 "metadata": {
  "kernelspec": {
   "display_name": "Python 3 (ipykernel)",
   "language": "python",
   "name": "python3"
  },
  "language_info": {
   "codemirror_mode": {
    "name": "ipython",
    "version": 3
   },
   "file_extension": ".py",
   "mimetype": "text/x-python",
   "name": "python",
   "nbconvert_exporter": "python",
   "pygments_lexer": "ipython3",
   "version": "3.12.4"
  }
 },
 "nbformat": 4,
 "nbformat_minor": 5
}
